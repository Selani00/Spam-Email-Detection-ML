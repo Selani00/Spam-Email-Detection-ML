{
 "cells": [
  {
   "cell_type": "code",
   "execution_count": 1,
   "metadata": {},
   "outputs": [],
   "source": [
    "import numpy as np"
   ]
  },
  {
   "cell_type": "code",
   "execution_count": 2,
   "metadata": {},
   "outputs": [],
   "source": [
    "import json\n",
    "with open('../Artifacts/kaggle.json','r') as file:\n",
    "    data = json.load(file)"
   ]
  },
  {
   "cell_type": "code",
   "execution_count": 5,
   "metadata": {},
   "outputs": [
    {
     "name": "stdout",
     "output_type": "stream",
     "text": [
      "Requirement already satisfied: kaggle in d:\\ruhunanew\\academic\\3rd year\\ml\\email_spam\\spam-email-detection-ml_editted_by_d\\env\\lib\\site-packages (1.6.3)\n",
      "Requirement already satisfied: six>=1.10 in d:\\ruhunanew\\academic\\3rd year\\ml\\email_spam\\spam-email-detection-ml_editted_by_d\\env\\lib\\site-packages (from kaggle) (1.16.0)\n",
      "Requirement already satisfied: certifi in d:\\ruhunanew\\academic\\3rd year\\ml\\email_spam\\spam-email-detection-ml_editted_by_d\\env\\lib\\site-packages (from kaggle) (2023.11.17)\n",
      "Requirement already satisfied: python-dateutil in d:\\ruhunanew\\academic\\3rd year\\ml\\email_spam\\spam-email-detection-ml_editted_by_d\\env\\lib\\site-packages (from kaggle) (2.8.2)\n",
      "Requirement already satisfied: requests in d:\\ruhunanew\\academic\\3rd year\\ml\\email_spam\\spam-email-detection-ml_editted_by_d\\env\\lib\\site-packages (from kaggle) (2.31.0)\n",
      "Requirement already satisfied: tqdm in d:\\ruhunanew\\academic\\3rd year\\ml\\email_spam\\spam-email-detection-ml_editted_by_d\\env\\lib\\site-packages (from kaggle) (4.66.1)\n",
      "Requirement already satisfied: python-slugify in d:\\ruhunanew\\academic\\3rd year\\ml\\email_spam\\spam-email-detection-ml_editted_by_d\\env\\lib\\site-packages (from kaggle) (8.0.1)\n",
      "Requirement already satisfied: urllib3 in d:\\ruhunanew\\academic\\3rd year\\ml\\email_spam\\spam-email-detection-ml_editted_by_d\\env\\lib\\site-packages (from kaggle) (2.1.0)\n",
      "Requirement already satisfied: bleach in d:\\ruhunanew\\academic\\3rd year\\ml\\email_spam\\spam-email-detection-ml_editted_by_d\\env\\lib\\site-packages (from kaggle) (6.1.0)\n",
      "Requirement already satisfied: webencodings in d:\\ruhunanew\\academic\\3rd year\\ml\\email_spam\\spam-email-detection-ml_editted_by_d\\env\\lib\\site-packages (from bleach->kaggle) (0.5.1)\n",
      "Requirement already satisfied: text-unidecode>=1.3 in d:\\ruhunanew\\academic\\3rd year\\ml\\email_spam\\spam-email-detection-ml_editted_by_d\\env\\lib\\site-packages (from python-slugify->kaggle) (1.3)\n",
      "Requirement already satisfied: charset-normalizer<4,>=2 in d:\\ruhunanew\\academic\\3rd year\\ml\\email_spam\\spam-email-detection-ml_editted_by_d\\env\\lib\\site-packages (from requests->kaggle) (3.3.2)\n",
      "Requirement already satisfied: idna<4,>=2.5 in d:\\ruhunanew\\academic\\3rd year\\ml\\email_spam\\spam-email-detection-ml_editted_by_d\\env\\lib\\site-packages (from requests->kaggle) (3.6)\n",
      "Requirement already satisfied: colorama in d:\\ruhunanew\\academic\\3rd year\\ml\\email_spam\\spam-email-detection-ml_editted_by_d\\env\\lib\\site-packages (from tqdm->kaggle) (0.4.6)\n",
      "Note: you may need to restart the kernel to use updated packages.\n"
     ]
    },
    {
     "name": "stderr",
     "output_type": "stream",
     "text": [
      "\n",
      "[notice] A new release of pip is available: 23.3.1 -> 23.3.2\n",
      "[notice] To update, run: python.exe -m pip install --upgrade pip\n"
     ]
    }
   ],
   "source": [
    "%pip install kaggle"
   ]
  },
  {
   "cell_type": "code",
   "execution_count": 6,
   "metadata": {},
   "outputs": [],
   "source": [
    "import os\n",
    "os.environ['KAGGLE_USERNAME'] = data['username']\n",
    "os.environ['KAGGLE_KEY'] = data['key']"
   ]
  },
  {
   "cell_type": "code",
   "execution_count": 7,
   "metadata": {},
   "outputs": [],
   "source": [
    "from kaggle.api.kaggle_api_extended import KaggleApi\n",
    "api = KaggleApi()\n",
    "api.authenticate()"
   ]
  },
  {
   "cell_type": "code",
   "execution_count": 9,
   "metadata": {},
   "outputs": [],
   "source": [
    "api.dataset_download_files('nandhanasuresh/e-mail-spam-detection-dataset',path='../Artifacts/')"
   ]
  },
  {
   "cell_type": "code",
   "execution_count": 10,
   "metadata": {},
   "outputs": [],
   "source": [
    "import zipfile\n",
    "with zipfile.ZipFile('../Artifacts/e-mail-spam-detection-dataset.zip','r') as zip_ref:\n",
    "    zip_ref.extractall('../Artifacts/')"
   ]
  },
  {
   "cell_type": "code",
   "execution_count": null,
   "metadata": {},
   "outputs": [],
   "source": []
  }
 ],
 "metadata": {
  "kernelspec": {
   "display_name": "env",
   "language": "python",
   "name": "python3"
  },
  "language_info": {
   "codemirror_mode": {
    "name": "ipython",
    "version": 3
   },
   "file_extension": ".py",
   "mimetype": "text/x-python",
   "name": "python",
   "nbconvert_exporter": "python",
   "pygments_lexer": "ipython3",
   "version": "3.12.1"
  }
 },
 "nbformat": 4,
 "nbformat_minor": 2
}
